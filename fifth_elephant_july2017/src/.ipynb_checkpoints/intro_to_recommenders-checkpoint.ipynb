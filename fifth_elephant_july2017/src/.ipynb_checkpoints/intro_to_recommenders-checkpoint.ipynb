{
 "cells": [
  {
   "cell_type": "markdown",
   "metadata": {},
   "source": [
    "# Introduction To Recommender System\n",
    "## With Python"
   ]
  },
  {
   "cell_type": "code",
   "execution_count": 1,
   "metadata": {
    "collapsed": true
   },
   "outputs": [],
   "source": [
    "import numpy as np"
   ]
  },
  {
   "cell_type": "code",
   "execution_count": 2,
   "metadata": {
    "collapsed": true
   },
   "outputs": [],
   "source": [
    "np.random.random?"
   ]
  },
  {
   "cell_type": "code",
   "execution_count": 3,
   "metadata": {
    "collapsed": true
   },
   "outputs": [],
   "source": [
    "a = np.random.random(100)\n",
    "b = np.random.random(100)"
   ]
  },
  {
   "cell_type": "code",
   "execution_count": 4,
   "metadata": {
    "collapsed": false
   },
   "outputs": [
    {
     "name": "stdout",
     "output_type": "stream",
     "text": [
      "(100,)\n",
      "(100,)\n"
     ]
    }
   ],
   "source": [
    "c = a + b\n",
    "print c.shape\n",
    "d = a - b\n",
    "print d.shape"
   ]
  },
  {
   "cell_type": "code",
   "execution_count": 5,
   "metadata": {
    "collapsed": true
   },
   "outputs": [],
   "source": [
    "from scipy.spatial import distance"
   ]
  },
  {
   "cell_type": "code",
   "execution_count": 6,
   "metadata": {
    "collapsed": false
   },
   "outputs": [
    {
     "data": {
      "text/plain": [
       "0.21756732930279543"
      ]
     },
     "execution_count": 6,
     "metadata": {},
     "output_type": "execute_result"
    }
   ],
   "source": [
    "distance.cosine(a, b)"
   ]
  },
  {
   "cell_type": "markdown",
   "metadata": {},
   "source": [
    "# Standard Cases in Similarity"
   ]
  },
  {
   "cell_type": "code",
   "execution_count": 19,
   "metadata": {
    "collapsed": true
   },
   "outputs": [],
   "source": [
    "from scipy import stats"
   ]
  },
  {
   "cell_type": "code",
   "execution_count": 30,
   "metadata": {
    "collapsed": false
   },
   "outputs": [
    {
     "name": "stdout",
     "output_type": "stream",
     "text": [
      "[ 1  2  1  1  2 11  4  6  7  9]\n"
     ]
    }
   ],
   "source": [
    "part_1_1 = stats.poisson.rvs(2, size=5) # Customer 1 gives lower ratings to first 5 movies / products\n",
    "part_2_1 = stats.poisson.rvs(8, size=5) # Customer 1 gives higher ratings to last 5 movies / products\n",
    "cust_1 = np.hstack([part_1_1, part_2_1])\n",
    "print cust_1"
   ]
  },
  {
   "cell_type": "code",
   "execution_count": 31,
   "metadata": {
    "collapsed": false
   },
   "outputs": [
    {
     "name": "stdout",
     "output_type": "stream",
     "text": [
      "[ 3 13  8  6  4  1  2  3  3  3]\n"
     ]
    }
   ],
   "source": [
    "part_1_2 = stats.poisson.rvs(8, size=5) # Customer 1 gives higher ratings to first 5 movies / products\n",
    "part_2_2 = stats.poisson.rvs(2, size=5) # Customer 1 gives higher ratings to last 5 movies / products\n",
    "cust_2 = np.hstack([part_1_2, part_2_2])\n",
    "print cust_2"
   ]
  },
  {
   "cell_type": "code",
   "execution_count": 32,
   "metadata": {
    "collapsed": false
   },
   "outputs": [
    {
     "name": "stdout",
     "output_type": "stream",
     "text": [
      "[ 4  3  2  3  6 10  9  8 11 11]\n"
     ]
    }
   ],
   "source": [
    "part_1_3 = stats.poisson.rvs(2, size=5) # Customer 1 gives higher ratings to first 5 movies / products\n",
    "part_2_3 = stats.poisson.rvs(8, size=5) # Customer 1 gives higher ratings to last 5 movies / products\n",
    "cust_3 = np.hstack([part_1_3, part_2_3])\n",
    "print cust_3"
   ]
  },
  {
   "cell_type": "code",
   "execution_count": 46,
   "metadata": {
    "collapsed": false
   },
   "outputs": [],
   "source": [
    "from sklearn.preprocessing import normalize\n",
    "cust_1_norm = cust_1/np.linalg.norm(cust_1, ord=1)\n",
    "cust_2_norm = cust_1/np.linalg.norm(cust_2, ord=1)\n",
    "cust_3_norm = cust_1/np.linalg.norm(cust_3, ord=1)"
   ]
  },
  {
   "cell_type": "code",
   "execution_count": 48,
   "metadata": {
    "collapsed": false
   },
   "outputs": [
    {
     "name": "stdout",
     "output_type": "stream",
     "text": [
      "0.574925273265\n",
      "0.0541021200104\n"
     ]
    }
   ],
   "source": [
    "print distance.cosine(cust_1, cust_2)\n",
    "print distance.cosine(cust_1, cust_3)"
   ]
  },
  {
   "cell_type": "code",
   "execution_count": 44,
   "metadata": {
    "collapsed": false
   },
   "outputs": [
    {
     "data": {
      "text/plain": [
       "array([ 0.02272727,  0.04545455,  0.02272727,  0.02272727,  0.04545455,\n",
       "        0.25      ,  0.09090909,  0.13636364,  0.15909091,  0.20454545])"
      ]
     },
     "execution_count": 44,
     "metadata": {},
     "output_type": "execute_result"
    }
   ],
   "source": [
    "cust_1_norm"
   ]
  },
  {
   "cell_type": "code",
   "execution_count": 45,
   "metadata": {
    "collapsed": false
   },
   "outputs": [
    {
     "data": {
      "text/plain": [
       "array([ 0.02272727,  0.04545455,  0.02272727,  0.02272727,  0.04545455,\n",
       "        0.25      ,  0.09090909,  0.13636364,  0.15909091,  0.20454545])"
      ]
     },
     "execution_count": 45,
     "metadata": {},
     "output_type": "execute_result"
    }
   ],
   "source": [
    "cust_2_norm"
   ]
  },
  {
   "cell_type": "code",
   "execution_count": null,
   "metadata": {
    "collapsed": true
   },
   "outputs": [],
   "source": [
    "## Now show the same code as above in a matrix form to generate similarity matrix\n",
    "## After that build similary index lookup / nearest neighbour\n",
    "## Conclude the first iteration"
   ]
  },
  {
   "cell_type": "code",
   "execution_count": null,
   "metadata": {
    "collapsed": true
   },
   "outputs": [],
   "source": [
    "## Repeat the experiment with larger data like 20 newsgroups\n",
    "## Filter by top 500 tokens or so\n",
    "## Show that actually relevant documents get picked up"
   ]
  },
  {
   "cell_type": "code",
   "execution_count": null,
   "metadata": {
    "collapsed": true
   },
   "outputs": [],
   "source": [
    "## Expect the users to follow along till 20 newsgroups\n",
    "## After that cover ALS, Rendle as theory\n",
    "## Go back to nearest neighbours\n"
   ]
  }
 ],
 "metadata": {
  "kernelspec": {
   "display_name": "Python 2",
   "language": "python",
   "name": "python2"
  },
  "language_info": {
   "codemirror_mode": {
    "name": "ipython",
    "version": 2
   },
   "file_extension": ".py",
   "mimetype": "text/x-python",
   "name": "python",
   "nbconvert_exporter": "python",
   "pygments_lexer": "ipython2",
   "version": "2.7.6"
  }
 },
 "nbformat": 4,
 "nbformat_minor": 2
}
