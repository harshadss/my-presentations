{
 "cells": [
  {
   "cell_type": "markdown",
   "metadata": {
    "slideshow": {
     "slide_type": "slide"
    }
   },
   "source": [
    "# Me\n",
    "\n",
    "## Senior Data Scientist @ Sokrati\n",
    "\n",
    "## Advertising Technology, Click Stream and Merchandising Data\n",
    "\n",
    "## Masters Operations Research, IIT Mumbai"
   ]
  },
  {
   "cell_type": "markdown",
   "metadata": {
    "slideshow": {
     "slide_type": "slide"
    }
   },
   "source": [
    "# Supervised Machine Learning"
   ]
  },
  {
   "cell_type": "code",
   "execution_count": null,
   "metadata": {
    "collapsed": false,
    "slideshow": {
     "slide_type": "slide"
    }
   },
   "outputs": [],
   "source": [
    "from IPython.display import display, Image\n",
    "display(Image(filename='supervised_learning_basic.png'))"
   ]
  },
  {
   "cell_type": "markdown",
   "metadata": {
    "slideshow": {
     "slide_type": "fragment"
    }
   },
   "source": [
    "Image from Stack Overflow"
   ]
  },
  {
   "cell_type": "markdown",
   "metadata": {
    "slideshow": {
     "slide_type": "slide"
    }
   },
   "source": [
    "# Supervised Learning Using Maths"
   ]
  },
  {
   "cell_type": "markdown",
   "metadata": {
    "slideshow": {
     "slide_type": "fragment"
    }
   },
   "source": [
    "## Hypothesis\n",
    "  $$ \\hat{y} = g (w_{0} + w_{1} * x_{1} + w_{2} * x_{2} + w_{3} * x_{3} + \\dots ) + \\epsilon $$"
   ]
  },
  {
   "cell_type": "markdown",
   "metadata": {
    "slideshow": {
     "slide_type": "fragment"
    }
   },
   "source": [
    "## Parameters\n",
    "  $$ w_{0}, w_{1}, \\dots, w_{m} $$"
   ]
  },
  {
   "cell_type": "markdown",
   "metadata": {
    "slideshow": {
     "slide_type": "fragment"
    }
   },
   "source": [
    "## Error\n",
    "$$ \\frac{1}{n} * \\sum_{i \\in n} (y_{i} - \\hat{y_{i}} ) ^ 2 $$"
   ]
  },
  {
   "cell_type": "markdown",
   "metadata": {
    "slideshow": {
     "slide_type": "slide"
    }
   },
   "source": [
    "## Data\n",
    "  * Is given, constant\n",
    "  \n",
    "## Outputs / Predictions\n",
    "  * Function of parameters\n",
    "  \n",
    "## Parameter Choice\n",
    "  * Results in output (hence errors)\n",
    "  \n",
    "## Make lowest error!"
   ]
  },
  {
   "cell_type": "markdown",
   "metadata": {
    "slideshow": {
     "slide_type": "slide"
    }
   },
   "source": [
    "# Parameter Fitting\n",
    "\n",
    "## Choose best w, given the data\n",
    "\n",
    "## How do you choose best?\n",
    "\n",
    "## Intuition : Optimization Routines\n",
    "* Trial and error\n",
    "* Choose w, make prediction\n",
    "* Change w, to improve the accuracy\n",
    "\n",
    "## Decisions to be made\n",
    "* How to calculate accuracy?\n",
    "* How to form initial guess?\n",
    "* How to update w based on accuracy?"
   ]
  },
  {
   "cell_type": "code",
   "execution_count": null,
   "metadata": {
    "collapsed": false,
    "slideshow": {
     "slide_type": "slide"
    }
   },
   "outputs": [],
   "source": [
    "%pylab inline\n",
    "import random\n",
    "from sklearn.datasets.samples_generator import make_regression \n",
    "import matplotlib.pyplot as plt\n",
    "\n",
    "all_theta_0 = []\n",
    "all_theta_1 = []\n",
    "all_cost = []\n",
    "\n",
    "def gradient_descent(alpha, x, y, ep=0.001, max_iter=10000):\n",
    "    converged = False\n",
    "    iter = 0\n",
    "    m = x.shape[0] # number of samples\n",
    "\n",
    "    # initial theta\n",
    "    t0 = np.random.random(x.shape[1])\n",
    "    all_theta_0.append(t0)\n",
    "    t1 = np.random.random(x.shape[1])\n",
    "    all_theta_1.append(t1)\n",
    "\n",
    "    # total error, J(theta)\n",
    "    J = sum([(t0 + t1*x[i] - y[i])**2 for i in range(m)])\n",
    "    all_cost.append(J)\n",
    "\n",
    "    # Iterate Loop\n",
    "    while not converged:\n",
    "        # for each training sample, compute the gradient (d/d_theta j(theta))\n",
    "        grad0 = 1.0/m * sum([(t0 + t1*x[i] - y[i]) for i in range(m)]) \n",
    "        grad1 = 1.0/m * sum([(t0 + t1*x[i] - y[i])*x[i] for i in range(m)])\n",
    "\n",
    "        # update the theta_temp\n",
    "        temp0 = t0 - alpha * grad0\n",
    "        temp1 = t1 - alpha * grad1\n",
    "    \n",
    "        # update theta\n",
    "        t0 = temp0\n",
    "        t1 = temp1\n",
    "        all_theta_0.append(t0)\n",
    "        all_theta_1.append(t1)\n",
    "\n",
    "        # mean squared error\n",
    "        e = sum( [ (t0 + t1*x[i] - y[i])**2 for i in range(m)] ) \n",
    "\n",
    "        if abs(J-e) <= ep:\n",
    "            converged = True\n",
    "    \n",
    "        J = e   # update error \n",
    "        iter += 1  # update iter\n",
    "    \n",
    "        if iter == max_iter:\n",
    "            converged = True\n",
    "\n",
    "    return t0,t1\n",
    "\n",
    "x, y = make_regression(n_samples=100, n_features=1, n_informative=1, \n",
    "                        random_state=0, noise=35) \n",
    " \n",
    "alpha = 0.01 # learning rate\n",
    "ep = 0.01 # convergence criteria\n",
    "\n",
    "    # call gredient decent, and get intercept(=theta0) and slope(=theta1)\n",
    "theta0, theta1 = gradient_descent(alpha, x, y, ep, max_iter=1000)\n",
    "plt.plot(all_theta_0, all_theta_1, marker = \"+\", color = \"red\")\n",
    "plt.figure(1, figsize=(16, 12))\n",
    "plt.ylim(-10, 50)\n",
    "plt.ylabel(\"Parameter $$w1$$\")\n",
    "plt.xlim(-3, 2)\n",
    "plt.xlabel(\"Parameter $$w2$$\")\n",
    "plt.title(\"Gradient descent over parameters\")\n",
    "plt.show()"
   ]
  },
  {
   "cell_type": "markdown",
   "metadata": {
    "slideshow": {
     "slide_type": "slide"
    }
   },
   "source": [
    "# Important Point\n",
    "\n",
    "## X variables need not be numbers\n",
    "### Else, machine learning has limited applications\n",
    "\n",
    "## X variables should be convertible to numbers\n",
    "\n",
    "## Thus, applicable to many fields\n",
    "  * Images\n",
    "  * Text\n",
    "  * Biological Data\n",
    "  * Videos"
   ]
  },
  {
   "cell_type": "markdown",
   "metadata": {
    "slideshow": {
     "slide_type": "slide"
    }
   },
   "source": [
    "# Text: Focus of Today's talk"
   ]
  },
  {
   "cell_type": "markdown",
   "metadata": {
    "slideshow": {
     "slide_type": "slide"
    }
   },
   "source": [
    "## Examples\n",
    "\n",
    "### Sentiment Analysis\n",
    "Same health example as before but with classes as positive negative sentiment.\n",
    "\n",
    "### Named Entity Recognition"
   ]
  },
  {
   "cell_type": "markdown",
   "metadata": {
    "slideshow": {
     "slide_type": "fragment"
    }
   },
   "source": [
    "##### What are the X values?\n",
    "  + What is the part of speech tag of N-1th word?\n",
    "  + What is the part of speech tag of N-2th word?\n",
    "  + What is the location of the phrase in the sentence?\n",
    "  + Is it capitalized?\n",
    "  + What is the part of speech tag of the phrase itself\n"
   ]
  },
  {
   "cell_type": "markdown",
   "metadata": {
    "slideshow": {
     "slide_type": "slide"
    }
   },
   "source": [
    "# Bag of Words Model"
   ]
  },
  {
   "cell_type": "code",
   "execution_count": null,
   "metadata": {
    "collapsed": true,
    "slideshow": {
     "slide_type": "fragment"
    }
   },
   "outputs": [],
   "source": [
    "from IPython.display import display, Image\n",
    "display(Image(filename='supervised_learning_basic.png'))"
   ]
  },
  {
   "cell_type": "markdown",
   "metadata": {
    "slideshow": {
     "slide_type": "slide"
    }
   },
   "source": [
    "## Basic Idea\n",
    "Words as axis\n",
    "\n",
    "## Improvements\n",
    "  * Frequency Vs. Binary Vs. Modified frequency (TFIDF)\n",
    "  * Cleanups (stop words, numbers, stemming)\n",
    "\n",
    "## Fundamental Issues\n",
    "    * Just BoW may not be enough\n",
    "    * Looses semantic similarity\n",
    "    * Very sensitive to the settings"
   ]
  },
  {
   "cell_type": "markdown",
   "metadata": {
    "slideshow": {
     "slide_type": "slide"
    }
   },
   "source": [
    "# Introduction To Neural Network"
   ]
  },
  {
   "cell_type": "markdown",
   "metadata": {
    "slideshow": {
     "slide_type": "fragment"
    }
   },
   "source": [
    "> -- <cite>All images from Quoc V. Le tutorial on deep learning'</cite>"
   ]
  },
  {
   "cell_type": "code",
   "execution_count": 8,
   "metadata": {
    "collapsed": false,
    "slideshow": {
     "slide_type": "slide"
    }
   },
   "outputs": [
    {
     "data": {
      "image/png": "[encoded data removed]",
      "text/plain": [
       "<IPython.core.display.Image object>"
      ]
     },
     "metadata": {},
     "output_type": "display_data"
    }
   ],
   "source": [
    "from IPython.display import display, Image\n",
    "display(Image(filename='nn_intro1.png'))"
   ]
  },
  {
   "cell_type": "code",
   "execution_count": null,
   "metadata": {
    "collapsed": false,
    "slideshow": {
     "slide_type": "slide"
    }
   },
   "outputs": [],
   "source": [
    "from IPython.display import display, Image\n",
    "display(Image(filename='nn_intro2.png'))"
   ]
  },
  {
   "cell_type": "code",
   "execution_count": null,
   "metadata": {
    "collapsed": false,
    "slideshow": {
     "slide_type": "slide"
    }
   },
   "outputs": [],
   "source": [
    "from IPython.display import display, Image\n",
    "display(Image(filename='nn_intro3.png'))"
   ]
  },
  {
   "cell_type": "code",
   "execution_count": null,
   "metadata": {
    "collapsed": false,
    "slideshow": {
     "slide_type": "slide"
    }
   },
   "outputs": [],
   "source": [
    "from IPython.display import display, Image\n",
    "display(Image(filename='nn_intro4.png'))"
   ]
  },
  {
   "cell_type": "code",
   "execution_count": null,
   "metadata": {
    "collapsed": true,
    "slideshow": {
     "slide_type": "fragment"
    }
   },
   "outputs": [],
   "source": [
    "from IPython.display import display, Image\n",
    "display(Image(filename='nn_intro5.png'))"
   ]
  },
  {
   "cell_type": "code",
   "execution_count": null,
   "metadata": {
    "collapsed": true,
    "slideshow": {
     "slide_type": "slide"
    }
   },
   "outputs": [],
   "source": [
    "from IPython.display import display, Image\n",
    "display(Image(filename='nn_intro6.png'))"
   ]
  },
  {
   "cell_type": "markdown",
   "metadata": {
    "slideshow": {
     "slide_type": "slide"
    }
   },
   "source": [
    "# Neural Network Details"
   ]
  },
  {
   "cell_type": "code",
   "execution_count": null,
   "metadata": {
    "collapsed": true,
    "slideshow": {
     "slide_type": "fragment"
    }
   },
   "outputs": [],
   "source": [
    "from IPython.display import display, Image\n",
    "display(Image(filename='nn_intro7.png'))"
   ]
  },
  {
   "cell_type": "markdown",
   "metadata": {
    "slideshow": {
     "slide_type": "fragment"
    }
   },
   "source": [
    "## Non-Linearity\n",
    "Different activation functions"
   ]
  },
  {
   "cell_type": "markdown",
   "metadata": {
    "slideshow": {
     "slide_type": "fragment"
    }
   },
   "source": [
    "## Training\n",
    "  * Called backpropagation algorithm\n",
    "  * Gradient descent + chain rule of derivatives"
   ]
  },
  {
   "cell_type": "markdown",
   "metadata": {
    "slideshow": {
     "slide_type": "slide"
    }
   },
   "source": [
    "# Important Ideas"
   ]
  },
  {
   "cell_type": "markdown",
   "metadata": {
    "slideshow": {
     "slide_type": "fragment"
    }
   },
   "source": [
    "## Context Matters\n",
    "  * Time Series\n",
    "  * Images\n",
    "  * Text\n",
    "  * Videos"
   ]
  },
  {
   "cell_type": "markdown",
   "metadata": {
    "slideshow": {
     "slide_type": "fragment"
    }
   },
   "source": [
    "## Representation Problem\n",
    "Derive a better representation using context"
   ]
  },
  {
   "cell_type": "markdown",
   "metadata": {
    "slideshow": {
     "slide_type": "slide"
    }
   },
   "source": [
    "# Word2Vec Introduction\n",
    "\n",
    "## Pioneers\n",
    "  * Original ideas on distributed layered representations by Hinton et.al. from 1986\n",
    "  * Neural probablistic language model\n",
    "  * Paper on word2vec published by Tomas Mikolov et.al. in 2011-12\n",
    "  * Very actively developed area currently.\n",
    "  \n",
    "## Basic Idea\n",
    "  * Build unsupervised learning\n",
    "  * Exploit contextual information\n",
    "  * Convert words to vectors in continuous space\n",
    "  * Use vectors in classification tasks\n",
    "  \n",
    "## Not a single algorithm\n",
    "2 main models and multiple settings avaialable."
   ]
  },
  {
   "cell_type": "markdown",
   "metadata": {
    "slideshow": {
     "slide_type": "slide"
    }
   },
   "source": [
    "# Distributional Hypothesis\n",
    "\n",
    "## Residents of city of *Pune* will have to...\n",
    "\n",
    "## Residents of city of *Nagpur* will have to..\n",
    "\n",
    "> Word is known by company it keeps"
   ]
  },
  {
   "cell_type": "markdown",
   "metadata": {
    "slideshow": {
     "slide_type": "slide"
    }
   },
   "source": [
    "# Beware.. Maths Ahead!"
   ]
  },
  {
   "cell_type": "markdown",
   "metadata": {
    "slideshow": {
     "slide_type": "subslide"
    }
   },
   "source": [
    "* Assume we have vector rep for each word"
   ]
  },
  {
   "cell_type": "markdown",
   "metadata": {
    "slideshow": {
     "slide_type": "subslide"
    }
   },
   "source": [
    "$$ P(w_t | h) = softmax(score(w_t, h)) \\\\\n",
    "              = \\frac{\\exp\\{ \\text{score}(w_t, h) \\} }\n",
    "             {\\sum_{Word \\, w' \\, \\in \\, Vocab} \\exp\\{ {score}(w', h) \\} } $$"
   ]
  },
  {
   "cell_type": "markdown",
   "metadata": {
    "slideshow": {
     "slide_type": "subslide"
    }
   },
   "source": [
    "* Score is computed by dot product of vector embeddings\n",
    "* If multiple words in the context, average is taken\n",
    "* Softmax function normalizes the scores to convert to probability"
   ]
  },
  {
   "cell_type": "markdown",
   "metadata": {
    "slideshow": {
     "slide_type": "subslide"
    }
   },
   "source": [
    "## Neural Network Task\n",
    "  * Optimize the vector representation\n",
    "  * To maximize the likelihood for all context, target word combinations"
   ]
  },
  {
   "cell_type": "markdown",
   "metadata": {
    "slideshow": {
     "slide_type": "subslide"
    }
   },
   "source": [
    "$$ J_{ML} = log \\, P(w_t|h) \\\\ \n",
    "          = score(w_t,h)\\, − \\, log(\\sum_{Word \\, w' \\, \\in \\, Vocab} \\exp\\{score(w′,h)\\}) $$"
   ]
  },
  {
   "cell_type": "markdown",
   "metadata": {
    "slideshow": {
     "slide_type": "slide"
    }
   },
   "source": [
    "## Problem\n",
    "  + Probability normalization is happening over entire corpus\n",
    "  + Will be very expensive to calculate\n",
    "  \n",
    "## Observation\n",
    "  + Need not maximize the likelihood over all examples\n",
    "  + Probability should be high for real pairs of context, target\n",
    "  + Probability should be low for randomly selected context, target\n",
    "  \n",
    "## Solution\n",
    "  + For every training example seen, use K negative examples\n",
    "  + Negative examples generated through random selection\n",
    "  \n",
    " $$ J_{NEG} = log Q_\\theta(D=1 |w_t, h) +\n",
    "  k \\, \\mathrm{E}_{\\tilde w \\sim P_{noise}}\n",
    "     [ \\log Q_\\theta(D = 0 |\\tilde w, h)] $$\n",
    "     \n",
    "> Q above is the binomial logistic regression probability "
   ]
  },
  {
   "cell_type": "markdown",
   "metadata": {
    "slideshow": {
     "slide_type": "slide"
    }
   },
   "source": [
    "# Example"
   ]
  },
  {
   "cell_type": "markdown",
   "metadata": {
    "slideshow": {
     "slide_type": "slide"
    }
   },
   "source": [
    "# Details Skipped\n",
    "\n",
    "## Two models\n",
    "  + Continuous bag of words and skip gram\n",
    "  + What are the differences?\n",
    "  \n",
    "## Why softmax in output layer\n",
    "\n",
    "## Engineering Implementation\n",
    "  + Optimized data structures for lookups\n",
    "  + Can we speed up using multiple workers/thread?\n",
    "  \n",
    "## How parameters are tuned?\n",
    "\n",
    "## How accuracy is evaluated"
   ]
  },
  {
   "cell_type": "markdown",
   "metadata": {
    "slideshow": {
     "slide_type": "slide"
    }
   },
   "source": [
    "# Short Demo"
   ]
  },
  {
   "cell_type": "markdown",
   "metadata": {
    "slideshow": {
     "slide_type": "slide"
    }
   },
   "source": [
    "# Further Developments"
   ]
  },
  {
   "cell_type": "markdown",
   "metadata": {
    "slideshow": {
     "slide_type": "fragment"
    }
   },
   "source": [
    "## More Algorithmic Explorations\n",
    "  + Same problem modeled as matrix factorization problem\n",
    "  + Evaluating different optimization criterion"
   ]
  },
  {
   "cell_type": "markdown",
   "metadata": {
    "slideshow": {
     "slide_type": "fragment"
    }
   },
   "source": [
    "## Handling Polysemy\n",
    "  + If word can have different meanings, why single vector\n",
    "  + I am exploring this problem"
   ]
  },
  {
   "cell_type": "markdown",
   "metadata": {
    "slideshow": {
     "slide_type": "fragment"
    }
   },
   "source": [
    "## Handling Document Representation\n",
    "  + Tokens build up documents\n",
    "  + Most interesting problems work with documents\n",
    "  + Simple averaging is not enough\n",
    "  + I am exploring this problem"
   ]
  },
  {
   "cell_type": "markdown",
   "metadata": {
    "slideshow": {
     "slide_type": "slide"
    }
   },
   "source": [
    "# References\n",
    "\n",
    "> -- <cite>Tomas Mikolov, Kai Chen, Greg Corrado, and Jeffrey Dean. Efficient estimation of word representations\n",
    "in vector space. ICLR Workshop, 2013.</cite>\n",
    "\n",
    "> -- <cite>Tutorial on deep learning by Quoc V. Le, 2015.</cite>\n",
    "\n",
    "> -- <cite>Tutorial for Tensorflow package released open source by Google</cite>\n",
    "\n",
    "> -- <cite>Blog post on word representations by Vered Shwartz  </cite>"
   ]
  }
 ],
 "metadata": {
  "celltoolbar": "Slideshow",
  "kernelspec": {
   "display_name": "Python 2",
   "language": "python",
   "name": "python2"
  },
  "language_info": {
   "codemirror_mode": {
    "name": "ipython",
    "version": 2
   },
   "file_extension": ".py",
   "mimetype": "text/x-python",
   "name": "python",
   "nbconvert_exporter": "python",
   "pygments_lexer": "ipython2",
   "version": "2.7.3"
  }
 },
 "nbformat": 4,
 "nbformat_minor": 0
}
